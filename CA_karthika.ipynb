{
 "cells": [
  {
   "cell_type": "code",
   "execution_count": 1,
   "id": "8f38b1f0",
   "metadata": {},
   "outputs": [],
   "source": [
    "import pandas as pd\n",
    "import numpy as np\n",
    "import seaborn as sns \n",
    "import matplotlib.pyplot as plt"
   ]
  },
  {
   "cell_type": "code",
   "execution_count": 2,
   "id": "4fe4cbe8",
   "metadata": {},
   "outputs": [],
   "source": [
    "data = \"Copy of CA data raw_soil culture 2022 10 domestic cultivars.xlsx\""
   ]
  },
  {
   "cell_type": "code",
   "execution_count": 3,
   "id": "2ce40072",
   "metadata": {},
   "outputs": [],
   "source": [
    "df_acid = pd.read_excel(data)"
   ]
  },
  {
   "cell_type": "code",
   "execution_count": 4,
   "id": "73648e06",
   "metadata": {},
   "outputs": [
    {
     "data": {
      "text/html": [
       "<div>\n",
       "<style scoped>\n",
       "    .dataframe tbody tr th:only-of-type {\n",
       "        vertical-align: middle;\n",
       "    }\n",
       "\n",
       "    .dataframe tbody tr th {\n",
       "        vertical-align: top;\n",
       "    }\n",
       "\n",
       "    .dataframe thead th {\n",
       "        text-align: right;\n",
       "    }\n",
       "</style>\n",
       "<table border=\"1\" class=\"dataframe\">\n",
       "  <thead>\n",
       "    <tr style=\"text-align: right;\">\n",
       "      <th></th>\n",
       "      <th>Pot number</th>\n",
       "      <th>Treatment</th>\n",
       "      <th>Replicate</th>\n",
       "      <th>Cultivar</th>\n",
       "      <th>Unnamed: 4</th>\n",
       "      <th>avg RL</th>\n",
       "      <th>avg.st dry</th>\n",
       "      <th>avg.rt dary</th>\n",
       "      <th>malic acid uM/g</th>\n",
       "      <th>malonic acid</th>\n",
       "      <th>acetic acid</th>\n",
       "      <th>citric acid</th>\n",
       "      <th>maleic acid</th>\n",
       "      <th>Unnamed: 13</th>\n",
       "      <th>Unnamed: 14</th>\n",
       "      <th>Unnamed: 15</th>\n",
       "      <th>Unnamed: 16</th>\n",
       "      <th>Unnamed: 17</th>\n",
       "      <th>Unnamed: 18</th>\n",
       "    </tr>\n",
       "  </thead>\n",
       "  <tbody>\n",
       "    <tr>\n",
       "      <th>0</th>\n",
       "      <td>1</td>\n",
       "      <td>T3</td>\n",
       "      <td>1</td>\n",
       "      <td>Ambar</td>\n",
       "      <td>NaN</td>\n",
       "      <td>65.00</td>\n",
       "      <td>0.05700</td>\n",
       "      <td>0.05000</td>\n",
       "      <td>56.152542</td>\n",
       "      <td>376.610169</td>\n",
       "      <td>643.389831</td>\n",
       "      <td>NaN</td>\n",
       "      <td>1.419661</td>\n",
       "      <td>NaN</td>\n",
       "      <td>NaN</td>\n",
       "      <td>NaN</td>\n",
       "      <td>NaN</td>\n",
       "      <td>CA acid: Values divided by root dry weight (th...</td>\n",
       "      <td>NaN</td>\n",
       "    </tr>\n",
       "    <tr>\n",
       "      <th>1</th>\n",
       "      <td>2</td>\n",
       "      <td>T3</td>\n",
       "      <td>2</td>\n",
       "      <td>Ambar</td>\n",
       "      <td>NaN</td>\n",
       "      <td>50.00</td>\n",
       "      <td>0.05300</td>\n",
       "      <td>0.03800</td>\n",
       "      <td>33.243243</td>\n",
       "      <td>452.702703</td>\n",
       "      <td>1493.513514</td>\n",
       "      <td>NaN</td>\n",
       "      <td>2.431622</td>\n",
       "      <td>NaN</td>\n",
       "      <td>NaN</td>\n",
       "      <td>NaN</td>\n",
       "      <td>NaN</td>\n",
       "      <td>NaN</td>\n",
       "      <td>NaN</td>\n",
       "    </tr>\n",
       "    <tr>\n",
       "      <th>2</th>\n",
       "      <td>3</td>\n",
       "      <td>T3</td>\n",
       "      <td>3</td>\n",
       "      <td>Ambar</td>\n",
       "      <td>NaN</td>\n",
       "      <td>44.00</td>\n",
       "      <td>0.03600</td>\n",
       "      <td>0.03000</td>\n",
       "      <td>30.370370</td>\n",
       "      <td>454.444444</td>\n",
       "      <td>2018.518519</td>\n",
       "      <td>NaN</td>\n",
       "      <td>3.528889</td>\n",
       "      <td>NaN</td>\n",
       "      <td>NaN</td>\n",
       "      <td>NaN</td>\n",
       "      <td>NaN</td>\n",
       "      <td>NaN</td>\n",
       "      <td>NaN</td>\n",
       "    </tr>\n",
       "    <tr>\n",
       "      <th>3</th>\n",
       "      <td>7</td>\n",
       "      <td>T3</td>\n",
       "      <td>1</td>\n",
       "      <td>Kalkee</td>\n",
       "      <td>NaN</td>\n",
       "      <td>46.25</td>\n",
       "      <td>0.04500</td>\n",
       "      <td>0.04025</td>\n",
       "      <td>48.642857</td>\n",
       "      <td>607.500000</td>\n",
       "      <td>760.178571</td>\n",
       "      <td>NaN</td>\n",
       "      <td>1.008214</td>\n",
       "      <td>NaN</td>\n",
       "      <td>NaN</td>\n",
       "      <td>NaN</td>\n",
       "      <td>NaN</td>\n",
       "      <td>No</td>\n",
       "      <td>Domestic cultivars</td>\n",
       "    </tr>\n",
       "    <tr>\n",
       "      <th>4</th>\n",
       "      <td>8</td>\n",
       "      <td>T3</td>\n",
       "      <td>2</td>\n",
       "      <td>Kalkee</td>\n",
       "      <td>NaN</td>\n",
       "      <td>39.25</td>\n",
       "      <td>0.02250</td>\n",
       "      <td>0.04375</td>\n",
       "      <td>55.630435</td>\n",
       "      <td>624.130435</td>\n",
       "      <td>1032.826087</td>\n",
       "      <td>NaN</td>\n",
       "      <td>1.412609</td>\n",
       "      <td>NaN</td>\n",
       "      <td>NaN</td>\n",
       "      <td>NaN</td>\n",
       "      <td>NaN</td>\n",
       "      <td>1</td>\n",
       "      <td>Ambar</td>\n",
       "    </tr>\n",
       "    <tr>\n",
       "      <th>5</th>\n",
       "      <td>9</td>\n",
       "      <td>T3</td>\n",
       "      <td>3</td>\n",
       "      <td>Kalkee</td>\n",
       "      <td>NaN</td>\n",
       "      <td>46.00</td>\n",
       "      <td>0.07400</td>\n",
       "      <td>0.06600</td>\n",
       "      <td>NaN</td>\n",
       "      <td>387.358491</td>\n",
       "      <td>1099.056604</td>\n",
       "      <td>NaN</td>\n",
       "      <td>1.928302</td>\n",
       "      <td>NaN</td>\n",
       "      <td>NaN</td>\n",
       "      <td>NaN</td>\n",
       "      <td>NaN</td>\n",
       "      <td>2</td>\n",
       "      <td>Genesis 090</td>\n",
       "    </tr>\n",
       "    <tr>\n",
       "      <th>6</th>\n",
       "      <td>10</td>\n",
       "      <td>T3</td>\n",
       "      <td>1</td>\n",
       "      <td>Moti</td>\n",
       "      <td>NaN</td>\n",
       "      <td>23.00</td>\n",
       "      <td>0.02900</td>\n",
       "      <td>0.02350</td>\n",
       "      <td>NaN</td>\n",
       "      <td>1584.285714</td>\n",
       "      <td>6541.428571</td>\n",
       "      <td>NaN</td>\n",
       "      <td>11.330000</td>\n",
       "      <td>NaN</td>\n",
       "      <td>NaN</td>\n",
       "      <td>NaN</td>\n",
       "      <td>NaN</td>\n",
       "      <td>3</td>\n",
       "      <td>Kalkee</td>\n",
       "    </tr>\n",
       "    <tr>\n",
       "      <th>7</th>\n",
       "      <td>11</td>\n",
       "      <td>T3</td>\n",
       "      <td>2</td>\n",
       "      <td>Moti</td>\n",
       "      <td>NaN</td>\n",
       "      <td>47.25</td>\n",
       "      <td>0.04300</td>\n",
       "      <td>0.03325</td>\n",
       "      <td>NaN</td>\n",
       "      <td>636.363636</td>\n",
       "      <td>1352.121212</td>\n",
       "      <td>NaN</td>\n",
       "      <td>3.030303</td>\n",
       "      <td>NaN</td>\n",
       "      <td>NaN</td>\n",
       "      <td>NaN</td>\n",
       "      <td>NaN</td>\n",
       "      <td>4</td>\n",
       "      <td>Moti</td>\n",
       "    </tr>\n",
       "    <tr>\n",
       "      <th>8</th>\n",
       "      <td>13</td>\n",
       "      <td>T3</td>\n",
       "      <td>1</td>\n",
       "      <td>Neelum</td>\n",
       "      <td>NaN</td>\n",
       "      <td>50.25</td>\n",
       "      <td>0.05025</td>\n",
       "      <td>0.04050</td>\n",
       "      <td>139.625000</td>\n",
       "      <td>489.375000</td>\n",
       "      <td>1465.625000</td>\n",
       "      <td>NaN</td>\n",
       "      <td>2.682187</td>\n",
       "      <td>NaN</td>\n",
       "      <td>NaN</td>\n",
       "      <td>NaN</td>\n",
       "      <td>NaN</td>\n",
       "      <td>5</td>\n",
       "      <td>Neelum</td>\n",
       "    </tr>\n",
       "    <tr>\n",
       "      <th>9</th>\n",
       "      <td>14</td>\n",
       "      <td>T3</td>\n",
       "      <td>2</td>\n",
       "      <td>Neelum</td>\n",
       "      <td>NaN</td>\n",
       "      <td>49.00</td>\n",
       "      <td>0.02300</td>\n",
       "      <td>0.02900</td>\n",
       "      <td>211.647059</td>\n",
       "      <td>NaN</td>\n",
       "      <td>2391.764706</td>\n",
       "      <td>NaN</td>\n",
       "      <td>4.957647</td>\n",
       "      <td>NaN</td>\n",
       "      <td>NaN</td>\n",
       "      <td>NaN</td>\n",
       "      <td>NaN</td>\n",
       "      <td>6</td>\n",
       "      <td>PBA Boundary</td>\n",
       "    </tr>\n",
       "  </tbody>\n",
       "</table>\n",
       "</div>"
      ],
      "text/plain": [
       "   Pot number Treatment  Replicate Cultivar  Unnamed: 4  avg RL  avg.st dry  \\\n",
       "0           1        T3          1    Ambar         NaN   65.00     0.05700   \n",
       "1           2        T3          2    Ambar         NaN   50.00     0.05300   \n",
       "2           3        T3          3    Ambar         NaN   44.00     0.03600   \n",
       "3           7        T3          1   Kalkee         NaN   46.25     0.04500   \n",
       "4           8        T3          2   Kalkee         NaN   39.25     0.02250   \n",
       "5           9        T3          3   Kalkee         NaN   46.00     0.07400   \n",
       "6          10        T3          1     Moti         NaN   23.00     0.02900   \n",
       "7          11        T3          2     Moti         NaN   47.25     0.04300   \n",
       "8          13        T3          1   Neelum         NaN   50.25     0.05025   \n",
       "9          14        T3          2   Neelum         NaN   49.00     0.02300   \n",
       "\n",
       "   avg.rt dary  malic acid uM/g  malonic acid  acetic acid  citric acid  \\\n",
       "0      0.05000        56.152542    376.610169   643.389831          NaN   \n",
       "1      0.03800        33.243243    452.702703  1493.513514          NaN   \n",
       "2      0.03000        30.370370    454.444444  2018.518519          NaN   \n",
       "3      0.04025        48.642857    607.500000   760.178571          NaN   \n",
       "4      0.04375        55.630435    624.130435  1032.826087          NaN   \n",
       "5      0.06600              NaN    387.358491  1099.056604          NaN   \n",
       "6      0.02350              NaN   1584.285714  6541.428571          NaN   \n",
       "7      0.03325              NaN    636.363636  1352.121212          NaN   \n",
       "8      0.04050       139.625000    489.375000  1465.625000          NaN   \n",
       "9      0.02900       211.647059           NaN  2391.764706          NaN   \n",
       "\n",
       "   maleic acid  Unnamed: 13  Unnamed: 14  Unnamed: 15  Unnamed: 16  \\\n",
       "0     1.419661          NaN          NaN          NaN          NaN   \n",
       "1     2.431622          NaN          NaN          NaN          NaN   \n",
       "2     3.528889          NaN          NaN          NaN          NaN   \n",
       "3     1.008214          NaN          NaN          NaN          NaN   \n",
       "4     1.412609          NaN          NaN          NaN          NaN   \n",
       "5     1.928302          NaN          NaN          NaN          NaN   \n",
       "6    11.330000          NaN          NaN          NaN          NaN   \n",
       "7     3.030303          NaN          NaN          NaN          NaN   \n",
       "8     2.682187          NaN          NaN          NaN          NaN   \n",
       "9     4.957647          NaN          NaN          NaN          NaN   \n",
       "\n",
       "                                         Unnamed: 17         Unnamed: 18  \n",
       "0  CA acid: Values divided by root dry weight (th...                 NaN  \n",
       "1                                                NaN                 NaN  \n",
       "2                                                NaN                 NaN  \n",
       "3                                                 No  Domestic cultivars  \n",
       "4                                                  1               Ambar  \n",
       "5                                                  2         Genesis 090  \n",
       "6                                                  3              Kalkee  \n",
       "7                                                  4                Moti  \n",
       "8                                                  5              Neelum  \n",
       "9                                                  6        PBA Boundary  "
      ]
     },
     "execution_count": 4,
     "metadata": {},
     "output_type": "execute_result"
    }
   ],
   "source": [
    "df_acid.head(10)"
   ]
  },
  {
   "cell_type": "code",
   "execution_count": 5,
   "id": "511d7bf9",
   "metadata": {},
   "outputs": [
    {
     "data": {
      "text/plain": [
       "Index(['Pot number', 'Treatment', 'Replicate', 'Cultivar', 'Unnamed: 4',\n",
       "       'avg RL', 'avg.st dry', 'avg.rt dary', 'malic acid uM/g',\n",
       "       'malonic acid', 'acetic acid', 'citric acid', 'maleic acid',\n",
       "       'Unnamed: 13', 'Unnamed: 14', 'Unnamed: 15', 'Unnamed: 16',\n",
       "       'Unnamed: 17', 'Unnamed: 18'],\n",
       "      dtype='object')"
      ]
     },
     "execution_count": 5,
     "metadata": {},
     "output_type": "execute_result"
    }
   ],
   "source": [
    "df_acid.columns"
   ]
  },
  {
   "cell_type": "code",
   "execution_count": 6,
   "id": "36e8ccef",
   "metadata": {},
   "outputs": [
    {
     "data": {
      "text/html": [
       "<div>\n",
       "<style scoped>\n",
       "    .dataframe tbody tr th:only-of-type {\n",
       "        vertical-align: middle;\n",
       "    }\n",
       "\n",
       "    .dataframe tbody tr th {\n",
       "        vertical-align: top;\n",
       "    }\n",
       "\n",
       "    .dataframe thead th {\n",
       "        text-align: right;\n",
       "    }\n",
       "</style>\n",
       "<table border=\"1\" class=\"dataframe\">\n",
       "  <thead>\n",
       "    <tr style=\"text-align: right;\">\n",
       "      <th></th>\n",
       "      <th>Pot number</th>\n",
       "      <th>Treatment</th>\n",
       "      <th>Replicate</th>\n",
       "      <th>Cultivar</th>\n",
       "      <th>Unnamed: 4</th>\n",
       "      <th>avg RL</th>\n",
       "      <th>avg.st dry</th>\n",
       "      <th>avg.rt dary</th>\n",
       "      <th>malic acid uM/g</th>\n",
       "      <th>malonic acid</th>\n",
       "      <th>acetic acid</th>\n",
       "      <th>citric acid</th>\n",
       "      <th>maleic acid</th>\n",
       "    </tr>\n",
       "  </thead>\n",
       "  <tbody>\n",
       "    <tr>\n",
       "      <th>0</th>\n",
       "      <td>1</td>\n",
       "      <td>T3</td>\n",
       "      <td>1</td>\n",
       "      <td>Ambar</td>\n",
       "      <td>NaN</td>\n",
       "      <td>65.00</td>\n",
       "      <td>0.0570</td>\n",
       "      <td>0.05000</td>\n",
       "      <td>56.152542</td>\n",
       "      <td>376.610169</td>\n",
       "      <td>643.389831</td>\n",
       "      <td>NaN</td>\n",
       "      <td>1.419661</td>\n",
       "    </tr>\n",
       "    <tr>\n",
       "      <th>1</th>\n",
       "      <td>2</td>\n",
       "      <td>T3</td>\n",
       "      <td>2</td>\n",
       "      <td>Ambar</td>\n",
       "      <td>NaN</td>\n",
       "      <td>50.00</td>\n",
       "      <td>0.0530</td>\n",
       "      <td>0.03800</td>\n",
       "      <td>33.243243</td>\n",
       "      <td>452.702703</td>\n",
       "      <td>1493.513514</td>\n",
       "      <td>NaN</td>\n",
       "      <td>2.431622</td>\n",
       "    </tr>\n",
       "    <tr>\n",
       "      <th>2</th>\n",
       "      <td>3</td>\n",
       "      <td>T3</td>\n",
       "      <td>3</td>\n",
       "      <td>Ambar</td>\n",
       "      <td>NaN</td>\n",
       "      <td>44.00</td>\n",
       "      <td>0.0360</td>\n",
       "      <td>0.03000</td>\n",
       "      <td>30.370370</td>\n",
       "      <td>454.444444</td>\n",
       "      <td>2018.518519</td>\n",
       "      <td>NaN</td>\n",
       "      <td>3.528889</td>\n",
       "    </tr>\n",
       "    <tr>\n",
       "      <th>3</th>\n",
       "      <td>7</td>\n",
       "      <td>T3</td>\n",
       "      <td>1</td>\n",
       "      <td>Kalkee</td>\n",
       "      <td>NaN</td>\n",
       "      <td>46.25</td>\n",
       "      <td>0.0450</td>\n",
       "      <td>0.04025</td>\n",
       "      <td>48.642857</td>\n",
       "      <td>607.500000</td>\n",
       "      <td>760.178571</td>\n",
       "      <td>NaN</td>\n",
       "      <td>1.008214</td>\n",
       "    </tr>\n",
       "    <tr>\n",
       "      <th>4</th>\n",
       "      <td>8</td>\n",
       "      <td>T3</td>\n",
       "      <td>2</td>\n",
       "      <td>Kalkee</td>\n",
       "      <td>NaN</td>\n",
       "      <td>39.25</td>\n",
       "      <td>0.0225</td>\n",
       "      <td>0.04375</td>\n",
       "      <td>55.630435</td>\n",
       "      <td>624.130435</td>\n",
       "      <td>1032.826087</td>\n",
       "      <td>NaN</td>\n",
       "      <td>1.412609</td>\n",
       "    </tr>\n",
       "  </tbody>\n",
       "</table>\n",
       "</div>"
      ],
      "text/plain": [
       "   Pot number Treatment  Replicate Cultivar  Unnamed: 4  avg RL  avg.st dry  \\\n",
       "0           1        T3          1    Ambar         NaN   65.00      0.0570   \n",
       "1           2        T3          2    Ambar         NaN   50.00      0.0530   \n",
       "2           3        T3          3    Ambar         NaN   44.00      0.0360   \n",
       "3           7        T3          1   Kalkee         NaN   46.25      0.0450   \n",
       "4           8        T3          2   Kalkee         NaN   39.25      0.0225   \n",
       "\n",
       "   avg.rt dary  malic acid uM/g  malonic acid  acetic acid  citric acid  \\\n",
       "0      0.05000        56.152542    376.610169   643.389831          NaN   \n",
       "1      0.03800        33.243243    452.702703  1493.513514          NaN   \n",
       "2      0.03000        30.370370    454.444444  2018.518519          NaN   \n",
       "3      0.04025        48.642857    607.500000   760.178571          NaN   \n",
       "4      0.04375        55.630435    624.130435  1032.826087          NaN   \n",
       "\n",
       "   maleic acid  \n",
       "0     1.419661  \n",
       "1     2.431622  \n",
       "2     3.528889  \n",
       "3     1.008214  \n",
       "4     1.412609  "
      ]
     },
     "execution_count": 6,
     "metadata": {},
     "output_type": "execute_result"
    }
   ],
   "source": [
    "df_acid = df_acid[['Pot number', 'Treatment', 'Replicate', 'Cultivar', 'Unnamed: 4',\n",
    "       'avg RL', 'avg.st dry', 'avg.rt dary', 'malic acid uM/g',\n",
    "       'malonic acid', 'acetic acid', 'citric acid', 'maleic acid']]\n",
    "df_acid.head()"
   ]
  },
  {
   "cell_type": "code",
   "execution_count": 7,
   "id": "25449bad",
   "metadata": {},
   "outputs": [],
   "source": [
    "df_T1= df_acid[df_acid.Treatment == \"T1\"]\n",
    "df_T2= df_acid[df_acid.Treatment == \"T2\"]\n",
    "df_T3= df_acid[df_acid.Treatment == \"T3\"]"
   ]
  },
  {
   "cell_type": "code",
   "execution_count": 8,
   "id": "db22ed0b",
   "metadata": {},
   "outputs": [
    {
     "data": {
      "text/plain": [
       "Pot number           int64\n",
       "Treatment           object\n",
       "Replicate            int64\n",
       "Cultivar            object\n",
       "Unnamed: 4         float64\n",
       "avg RL             float64\n",
       "avg.st dry         float64\n",
       "avg.rt dary        float64\n",
       "malic acid uM/g    float64\n",
       "malonic acid       float64\n",
       "acetic acid        float64\n",
       "citric acid        float64\n",
       "maleic acid        float64\n",
       "dtype: object"
      ]
     },
     "execution_count": 8,
     "metadata": {},
     "output_type": "execute_result"
    }
   ],
   "source": [
    "df_T1.dtypes"
   ]
  },
  {
   "cell_type": "code",
   "execution_count": 9,
   "id": "43e532dc",
   "metadata": {},
   "outputs": [
    {
     "data": {
      "text/plain": [
       "'1.3.5'"
      ]
     },
     "execution_count": 9,
     "metadata": {},
     "output_type": "execute_result"
    }
   ],
   "source": [
    "pd.__version__"
   ]
  },
  {
   "cell_type": "code",
   "execution_count": 10,
   "id": "0f5d44ba",
   "metadata": {},
   "outputs": [
    {
     "data": {
      "text/plain": [
       "Index(['Pot number', 'Treatment', 'Replicate', 'Cultivar', 'Unnamed: 4',\n",
       "       'avg RL', 'avg.st dry', 'avg.rt dary', 'malic acid uM/g',\n",
       "       'malonic acid', 'acetic acid', 'citric acid', 'maleic acid'],\n",
       "      dtype='object')"
      ]
     },
     "execution_count": 10,
     "metadata": {},
     "output_type": "execute_result"
    }
   ],
   "source": [
    "df_T1.columns"
   ]
  },
  {
   "cell_type": "code",
   "execution_count": 11,
   "id": "d242768f",
   "metadata": {},
   "outputs": [],
   "source": [
    "cols = ['Cultivar','avg.rt dary','malic acid uM/g', 'malonic acid','acetic acid', 'citric acid', 'maleic acid']"
   ]
  },
  {
   "cell_type": "code",
   "execution_count": 12,
   "id": "7dfb7a14",
   "metadata": {},
   "outputs": [],
   "source": [
    "df_T1=df_T1[cols]\n",
    "df_T2=df_T2[cols]\n",
    "df_T3=df_T3[cols]"
   ]
  },
  {
   "cell_type": "code",
   "execution_count": 13,
   "id": "b0f1d206",
   "metadata": {},
   "outputs": [],
   "source": [
    "cols_new = ['Cultivar','root_dry','malic acid', 'malonic acid','acetic acid', 'citric acid', 'maleic acid']"
   ]
  },
  {
   "cell_type": "code",
   "execution_count": 14,
   "id": "286d8015",
   "metadata": {},
   "outputs": [
    {
     "data": {
      "text/html": [
       "<div>\n",
       "<style scoped>\n",
       "    .dataframe tbody tr th:only-of-type {\n",
       "        vertical-align: middle;\n",
       "    }\n",
       "\n",
       "    .dataframe tbody tr th {\n",
       "        vertical-align: top;\n",
       "    }\n",
       "\n",
       "    .dataframe thead th {\n",
       "        text-align: right;\n",
       "    }\n",
       "</style>\n",
       "<table border=\"1\" class=\"dataframe\">\n",
       "  <thead>\n",
       "    <tr style=\"text-align: right;\">\n",
       "      <th></th>\n",
       "      <th>Cultivar</th>\n",
       "      <th>root_dry</th>\n",
       "      <th>malic acid</th>\n",
       "      <th>malonic acid</th>\n",
       "      <th>acetic acid</th>\n",
       "      <th>citric acid</th>\n",
       "      <th>maleic acid</th>\n",
       "    </tr>\n",
       "  </thead>\n",
       "  <tbody>\n",
       "    <tr>\n",
       "      <th>51</th>\n",
       "      <td>Ambar</td>\n",
       "      <td>0.0970</td>\n",
       "      <td>NaN</td>\n",
       "      <td>NaN</td>\n",
       "      <td>NaN</td>\n",
       "      <td>NaN</td>\n",
       "      <td>NaN</td>\n",
       "    </tr>\n",
       "    <tr>\n",
       "      <th>52</th>\n",
       "      <td>Ambar</td>\n",
       "      <td>0.0970</td>\n",
       "      <td>32.876289</td>\n",
       "      <td>497.731959</td>\n",
       "      <td>843.505155</td>\n",
       "      <td>NaN</td>\n",
       "      <td>1.008247</td>\n",
       "    </tr>\n",
       "    <tr>\n",
       "      <th>53</th>\n",
       "      <td>Kalkee</td>\n",
       "      <td>0.0945</td>\n",
       "      <td>77.344444</td>\n",
       "      <td>509.444444</td>\n",
       "      <td>769.444444</td>\n",
       "      <td>NaN</td>\n",
       "      <td>1.213333</td>\n",
       "    </tr>\n",
       "    <tr>\n",
       "      <th>54</th>\n",
       "      <td>Kalkee</td>\n",
       "      <td>0.0650</td>\n",
       "      <td>50.776119</td>\n",
       "      <td>675.522388</td>\n",
       "      <td>939.701493</td>\n",
       "      <td>NaN</td>\n",
       "      <td>1.078657</td>\n",
       "    </tr>\n",
       "    <tr>\n",
       "      <th>55</th>\n",
       "      <td>Kalkee</td>\n",
       "      <td>0.1115</td>\n",
       "      <td>83.589041</td>\n",
       "      <td>724.931507</td>\n",
       "      <td>810.410959</td>\n",
       "      <td>NaN</td>\n",
       "      <td>1.656164</td>\n",
       "    </tr>\n",
       "  </tbody>\n",
       "</table>\n",
       "</div>"
      ],
      "text/plain": [
       "   Cultivar  root_dry  malic acid  malonic acid  acetic acid  citric acid  \\\n",
       "51    Ambar    0.0970         NaN           NaN          NaN          NaN   \n",
       "52    Ambar    0.0970   32.876289    497.731959   843.505155          NaN   \n",
       "53   Kalkee    0.0945   77.344444    509.444444   769.444444          NaN   \n",
       "54   Kalkee    0.0650   50.776119    675.522388   939.701493          NaN   \n",
       "55   Kalkee    0.1115   83.589041    724.931507   810.410959          NaN   \n",
       "\n",
       "    maleic acid  \n",
       "51          NaN  \n",
       "52     1.008247  \n",
       "53     1.213333  \n",
       "54     1.078657  \n",
       "55     1.656164  "
      ]
     },
     "execution_count": 14,
     "metadata": {},
     "output_type": "execute_result"
    }
   ],
   "source": [
    "df_T1.columns = cols_new\n",
    "df_T2.columns = cols_new\n",
    "df_T3.columns = cols_new\n",
    "df_T1.head()"
   ]
  },
  {
   "cell_type": "code",
   "execution_count": 15,
   "id": "6cdddea1",
   "metadata": {},
   "outputs": [],
   "source": [
    "df_T1 = df_T1.melt(id_vars=['Cultivar', \"root_dry\"], \n",
    "        var_name=\"Acids\", \n",
    "        value_name=\"Concentration\")\n",
    "\n",
    "df_T2 = df_T2.melt(id_vars=['Cultivar', \"root_dry\"], \n",
    "        var_name=\"Acids\", \n",
    "        value_name=\"Concentration\")\n",
    "\n",
    "df_T3 = df_T3.melt(id_vars=['Cultivar', \"root_dry\"], \n",
    "        var_name=\"Acids\", \n",
    "        value_name=\"Concentration\")"
   ]
  },
  {
   "cell_type": "code",
   "execution_count": 16,
   "id": "0b6d239b",
   "metadata": {},
   "outputs": [
    {
     "data": {
      "text/html": [
       "<div>\n",
       "<style scoped>\n",
       "    .dataframe tbody tr th:only-of-type {\n",
       "        vertical-align: middle;\n",
       "    }\n",
       "\n",
       "    .dataframe tbody tr th {\n",
       "        vertical-align: top;\n",
       "    }\n",
       "\n",
       "    .dataframe thead th {\n",
       "        text-align: right;\n",
       "    }\n",
       "</style>\n",
       "<table border=\"1\" class=\"dataframe\">\n",
       "  <thead>\n",
       "    <tr style=\"text-align: right;\">\n",
       "      <th></th>\n",
       "      <th>Cultivar</th>\n",
       "      <th>root_dry</th>\n",
       "      <th>Acids</th>\n",
       "      <th>Concentration</th>\n",
       "    </tr>\n",
       "  </thead>\n",
       "  <tbody>\n",
       "    <tr>\n",
       "      <th>0</th>\n",
       "      <td>Ambar</td>\n",
       "      <td>0.0970</td>\n",
       "      <td>malic acid</td>\n",
       "      <td>NaN</td>\n",
       "    </tr>\n",
       "    <tr>\n",
       "      <th>1</th>\n",
       "      <td>Ambar</td>\n",
       "      <td>0.0970</td>\n",
       "      <td>malic acid</td>\n",
       "      <td>32.876289</td>\n",
       "    </tr>\n",
       "    <tr>\n",
       "      <th>2</th>\n",
       "      <td>Kalkee</td>\n",
       "      <td>0.0945</td>\n",
       "      <td>malic acid</td>\n",
       "      <td>77.344444</td>\n",
       "    </tr>\n",
       "    <tr>\n",
       "      <th>3</th>\n",
       "      <td>Kalkee</td>\n",
       "      <td>0.0650</td>\n",
       "      <td>malic acid</td>\n",
       "      <td>50.776119</td>\n",
       "    </tr>\n",
       "    <tr>\n",
       "      <th>4</th>\n",
       "      <td>Kalkee</td>\n",
       "      <td>0.1115</td>\n",
       "      <td>malic acid</td>\n",
       "      <td>83.589041</td>\n",
       "    </tr>\n",
       "  </tbody>\n",
       "</table>\n",
       "</div>"
      ],
      "text/plain": [
       "  Cultivar  root_dry       Acids  Concentration\n",
       "0    Ambar    0.0970  malic acid            NaN\n",
       "1    Ambar    0.0970  malic acid      32.876289\n",
       "2   Kalkee    0.0945  malic acid      77.344444\n",
       "3   Kalkee    0.0650  malic acid      50.776119\n",
       "4   Kalkee    0.1115  malic acid      83.589041"
      ]
     },
     "execution_count": 16,
     "metadata": {},
     "output_type": "execute_result"
    }
   ],
   "source": [
    "df_T1.head()"
   ]
  },
  {
   "cell_type": "code",
   "execution_count": 17,
   "id": "aaee05f4",
   "metadata": {},
   "outputs": [
    {
     "data": {
      "text/html": [
       "<div>\n",
       "<style scoped>\n",
       "    .dataframe tbody tr th:only-of-type {\n",
       "        vertical-align: middle;\n",
       "    }\n",
       "\n",
       "    .dataframe tbody tr th {\n",
       "        vertical-align: top;\n",
       "    }\n",
       "\n",
       "    .dataframe thead th {\n",
       "        text-align: right;\n",
       "    }\n",
       "</style>\n",
       "<table border=\"1\" class=\"dataframe\">\n",
       "  <thead>\n",
       "    <tr style=\"text-align: right;\">\n",
       "      <th></th>\n",
       "      <th>Cultivar</th>\n",
       "      <th>root_dry</th>\n",
       "      <th>Acids</th>\n",
       "      <th>Concentration</th>\n",
       "      <th>Concentration_wt</th>\n",
       "    </tr>\n",
       "  </thead>\n",
       "  <tbody>\n",
       "    <tr>\n",
       "      <th>0</th>\n",
       "      <td>Ambar</td>\n",
       "      <td>0.0970</td>\n",
       "      <td>malic acid</td>\n",
       "      <td>NaN</td>\n",
       "      <td>NaN</td>\n",
       "    </tr>\n",
       "    <tr>\n",
       "      <th>1</th>\n",
       "      <td>Ambar</td>\n",
       "      <td>0.0970</td>\n",
       "      <td>malic acid</td>\n",
       "      <td>32.876289</td>\n",
       "      <td>338.930811</td>\n",
       "    </tr>\n",
       "    <tr>\n",
       "      <th>2</th>\n",
       "      <td>Kalkee</td>\n",
       "      <td>0.0945</td>\n",
       "      <td>malic acid</td>\n",
       "      <td>77.344444</td>\n",
       "      <td>818.459730</td>\n",
       "    </tr>\n",
       "    <tr>\n",
       "      <th>3</th>\n",
       "      <td>Kalkee</td>\n",
       "      <td>0.0650</td>\n",
       "      <td>malic acid</td>\n",
       "      <td>50.776119</td>\n",
       "      <td>781.171068</td>\n",
       "    </tr>\n",
       "    <tr>\n",
       "      <th>4</th>\n",
       "      <td>Kalkee</td>\n",
       "      <td>0.1115</td>\n",
       "      <td>malic acid</td>\n",
       "      <td>83.589041</td>\n",
       "      <td>749.677499</td>\n",
       "    </tr>\n",
       "  </tbody>\n",
       "</table>\n",
       "</div>"
      ],
      "text/plain": [
       "  Cultivar  root_dry       Acids  Concentration  Concentration_wt\n",
       "0    Ambar    0.0970  malic acid            NaN               NaN\n",
       "1    Ambar    0.0970  malic acid      32.876289        338.930811\n",
       "2   Kalkee    0.0945  malic acid      77.344444        818.459730\n",
       "3   Kalkee    0.0650  malic acid      50.776119        781.171068\n",
       "4   Kalkee    0.1115  malic acid      83.589041        749.677499"
      ]
     },
     "execution_count": 17,
     "metadata": {},
     "output_type": "execute_result"
    }
   ],
   "source": [
    "df_T1[\"Concentration_wt\"] = df_T1[\"Concentration\"]/df_T1[\"root_dry\"]\n",
    "df_T2[\"Concentration_wt\"] = df_T2[\"Concentration\"]/df_T1[\"root_dry\"]\n",
    "df_T3[\"Concentration_wt\"] = df_T3[\"Concentration\"]/df_T1[\"root_dry\"]\n",
    "df_T1.head()"
   ]
  },
  {
   "cell_type": "code",
   "execution_count": 18,
   "id": "5e7dbd49",
   "metadata": {},
   "outputs": [
    {
     "data": {
      "text/html": [
       "<div>\n",
       "<style scoped>\n",
       "    .dataframe tbody tr th:only-of-type {\n",
       "        vertical-align: middle;\n",
       "    }\n",
       "\n",
       "    .dataframe tbody tr th {\n",
       "        vertical-align: top;\n",
       "    }\n",
       "\n",
       "    .dataframe thead th {\n",
       "        text-align: right;\n",
       "    }\n",
       "</style>\n",
       "<table border=\"1\" class=\"dataframe\">\n",
       "  <thead>\n",
       "    <tr style=\"text-align: right;\">\n",
       "      <th></th>\n",
       "      <th></th>\n",
       "      <th>count</th>\n",
       "      <th>mean</th>\n",
       "      <th>std</th>\n",
       "      <th>min</th>\n",
       "      <th>25%</th>\n",
       "      <th>50%</th>\n",
       "      <th>75%</th>\n",
       "      <th>max</th>\n",
       "    </tr>\n",
       "    <tr>\n",
       "      <th>Cultivar</th>\n",
       "      <th>Acids</th>\n",
       "      <th></th>\n",
       "      <th></th>\n",
       "      <th></th>\n",
       "      <th></th>\n",
       "      <th></th>\n",
       "      <th></th>\n",
       "      <th></th>\n",
       "      <th></th>\n",
       "    </tr>\n",
       "  </thead>\n",
       "  <tbody>\n",
       "    <tr>\n",
       "      <th rowspan=\"5\" valign=\"top\">Ambar</th>\n",
       "      <th>acetic acid</th>\n",
       "      <td>1.0</td>\n",
       "      <td>843.505155</td>\n",
       "      <td>NaN</td>\n",
       "      <td>843.505155</td>\n",
       "      <td>843.505155</td>\n",
       "      <td>843.505155</td>\n",
       "      <td>843.505155</td>\n",
       "      <td>843.505155</td>\n",
       "    </tr>\n",
       "    <tr>\n",
       "      <th>citric acid</th>\n",
       "      <td>0.0</td>\n",
       "      <td>NaN</td>\n",
       "      <td>NaN</td>\n",
       "      <td>NaN</td>\n",
       "      <td>NaN</td>\n",
       "      <td>NaN</td>\n",
       "      <td>NaN</td>\n",
       "      <td>NaN</td>\n",
       "    </tr>\n",
       "    <tr>\n",
       "      <th>maleic acid</th>\n",
       "      <td>1.0</td>\n",
       "      <td>1.008247</td>\n",
       "      <td>NaN</td>\n",
       "      <td>1.008247</td>\n",
       "      <td>1.008247</td>\n",
       "      <td>1.008247</td>\n",
       "      <td>1.008247</td>\n",
       "      <td>1.008247</td>\n",
       "    </tr>\n",
       "    <tr>\n",
       "      <th>malic acid</th>\n",
       "      <td>1.0</td>\n",
       "      <td>32.876289</td>\n",
       "      <td>NaN</td>\n",
       "      <td>32.876289</td>\n",
       "      <td>32.876289</td>\n",
       "      <td>32.876289</td>\n",
       "      <td>32.876289</td>\n",
       "      <td>32.876289</td>\n",
       "    </tr>\n",
       "    <tr>\n",
       "      <th>malonic acid</th>\n",
       "      <td>1.0</td>\n",
       "      <td>497.731959</td>\n",
       "      <td>NaN</td>\n",
       "      <td>497.731959</td>\n",
       "      <td>497.731959</td>\n",
       "      <td>497.731959</td>\n",
       "      <td>497.731959</td>\n",
       "      <td>497.731959</td>\n",
       "    </tr>\n",
       "  </tbody>\n",
       "</table>\n",
       "</div>"
      ],
      "text/plain": [
       "                       count        mean  std         min         25%  \\\n",
       "Cultivar Acids                                                          \n",
       "Ambar    acetic acid     1.0  843.505155  NaN  843.505155  843.505155   \n",
       "         citric acid     0.0         NaN  NaN         NaN         NaN   \n",
       "         maleic acid     1.0    1.008247  NaN    1.008247    1.008247   \n",
       "         malic acid      1.0   32.876289  NaN   32.876289   32.876289   \n",
       "         malonic acid    1.0  497.731959  NaN  497.731959  497.731959   \n",
       "\n",
       "                              50%         75%         max  \n",
       "Cultivar Acids                                             \n",
       "Ambar    acetic acid   843.505155  843.505155  843.505155  \n",
       "         citric acid          NaN         NaN         NaN  \n",
       "         maleic acid     1.008247    1.008247    1.008247  \n",
       "         malic acid     32.876289   32.876289   32.876289  \n",
       "         malonic acid  497.731959  497.731959  497.731959  "
      ]
     },
     "execution_count": 18,
     "metadata": {},
     "output_type": "execute_result"
    }
   ],
   "source": [
    "df_T1.groupby(['Cultivar','Acids'])[\"Concentration\"].describe().head()"
   ]
  },
  {
   "cell_type": "code",
   "execution_count": 19,
   "id": "55608afe",
   "metadata": {},
   "outputs": [
    {
     "data": {
      "text/html": [
       "<div>\n",
       "<style scoped>\n",
       "    .dataframe tbody tr th:only-of-type {\n",
       "        vertical-align: middle;\n",
       "    }\n",
       "\n",
       "    .dataframe tbody tr th {\n",
       "        vertical-align: top;\n",
       "    }\n",
       "\n",
       "    .dataframe thead th {\n",
       "        text-align: right;\n",
       "    }\n",
       "</style>\n",
       "<table border=\"1\" class=\"dataframe\">\n",
       "  <thead>\n",
       "    <tr style=\"text-align: right;\">\n",
       "      <th></th>\n",
       "      <th></th>\n",
       "      <th>count</th>\n",
       "      <th>mean</th>\n",
       "      <th>std</th>\n",
       "      <th>min</th>\n",
       "      <th>25%</th>\n",
       "      <th>50%</th>\n",
       "      <th>75%</th>\n",
       "      <th>max</th>\n",
       "    </tr>\n",
       "    <tr>\n",
       "      <th>Cultivar</th>\n",
       "      <th>Acids</th>\n",
       "      <th></th>\n",
       "      <th></th>\n",
       "      <th></th>\n",
       "      <th></th>\n",
       "      <th></th>\n",
       "      <th></th>\n",
       "      <th></th>\n",
       "      <th></th>\n",
       "    </tr>\n",
       "  </thead>\n",
       "  <tbody>\n",
       "    <tr>\n",
       "      <th rowspan=\"5\" valign=\"top\">Ambar</th>\n",
       "      <th>acetic acid</th>\n",
       "      <td>1.0</td>\n",
       "      <td>8695.929429</td>\n",
       "      <td>NaN</td>\n",
       "      <td>8695.929429</td>\n",
       "      <td>8695.929429</td>\n",
       "      <td>8695.929429</td>\n",
       "      <td>8695.929429</td>\n",
       "      <td>8695.929429</td>\n",
       "    </tr>\n",
       "    <tr>\n",
       "      <th>citric acid</th>\n",
       "      <td>0.0</td>\n",
       "      <td>NaN</td>\n",
       "      <td>NaN</td>\n",
       "      <td>NaN</td>\n",
       "      <td>NaN</td>\n",
       "      <td>NaN</td>\n",
       "      <td>NaN</td>\n",
       "      <td>NaN</td>\n",
       "    </tr>\n",
       "    <tr>\n",
       "      <th>maleic acid</th>\n",
       "      <td>1.0</td>\n",
       "      <td>10.394303</td>\n",
       "      <td>NaN</td>\n",
       "      <td>10.394303</td>\n",
       "      <td>10.394303</td>\n",
       "      <td>10.394303</td>\n",
       "      <td>10.394303</td>\n",
       "      <td>10.394303</td>\n",
       "    </tr>\n",
       "    <tr>\n",
       "      <th>malic acid</th>\n",
       "      <td>1.0</td>\n",
       "      <td>338.930811</td>\n",
       "      <td>NaN</td>\n",
       "      <td>338.930811</td>\n",
       "      <td>338.930811</td>\n",
       "      <td>338.930811</td>\n",
       "      <td>338.930811</td>\n",
       "      <td>338.930811</td>\n",
       "    </tr>\n",
       "    <tr>\n",
       "      <th>malonic acid</th>\n",
       "      <td>1.0</td>\n",
       "      <td>5131.257307</td>\n",
       "      <td>NaN</td>\n",
       "      <td>5131.257307</td>\n",
       "      <td>5131.257307</td>\n",
       "      <td>5131.257307</td>\n",
       "      <td>5131.257307</td>\n",
       "      <td>5131.257307</td>\n",
       "    </tr>\n",
       "  </tbody>\n",
       "</table>\n",
       "</div>"
      ],
      "text/plain": [
       "                       count         mean  std          min          25%  \\\n",
       "Cultivar Acids                                                             \n",
       "Ambar    acetic acid     1.0  8695.929429  NaN  8695.929429  8695.929429   \n",
       "         citric acid     0.0          NaN  NaN          NaN          NaN   \n",
       "         maleic acid     1.0    10.394303  NaN    10.394303    10.394303   \n",
       "         malic acid      1.0   338.930811  NaN   338.930811   338.930811   \n",
       "         malonic acid    1.0  5131.257307  NaN  5131.257307  5131.257307   \n",
       "\n",
       "                               50%          75%          max  \n",
       "Cultivar Acids                                                \n",
       "Ambar    acetic acid   8695.929429  8695.929429  8695.929429  \n",
       "         citric acid           NaN          NaN          NaN  \n",
       "         maleic acid     10.394303    10.394303    10.394303  \n",
       "         malic acid     338.930811   338.930811   338.930811  \n",
       "         malonic acid  5131.257307  5131.257307  5131.257307  "
      ]
     },
     "execution_count": 19,
     "metadata": {},
     "output_type": "execute_result"
    }
   ],
   "source": [
    "df_T1.groupby(['Cultivar','Acids'])[\"Concentration_wt\"].describe().head()"
   ]
  },
  {
   "cell_type": "markdown",
   "id": "f93727b2",
   "metadata": {},
   "source": [
    "## Raw mean concentration data"
   ]
  },
  {
   "cell_type": "code",
   "execution_count": 20,
   "id": "bb9d3c87",
   "metadata": {},
   "outputs": [],
   "source": [
    "df1 = df_T1.groupby(['Cultivar','Acids'])[\"Concentration\"].describe()\n",
    "df2 = df_T2.groupby(['Cultivar','Acids'])[\"Concentration\"].describe()\n",
    "df3 = df_T3.groupby(['Cultivar','Acids'])[\"Concentration\"].describe()"
   ]
  },
  {
   "cell_type": "code",
   "execution_count": 21,
   "id": "b5023753",
   "metadata": {},
   "outputs": [
    {
     "data": {
      "text/html": [
       "<div>\n",
       "<style scoped>\n",
       "    .dataframe tbody tr th:only-of-type {\n",
       "        vertical-align: middle;\n",
       "    }\n",
       "\n",
       "    .dataframe tbody tr th {\n",
       "        vertical-align: top;\n",
       "    }\n",
       "\n",
       "    .dataframe thead th {\n",
       "        text-align: right;\n",
       "    }\n",
       "</style>\n",
       "<table border=\"1\" class=\"dataframe\">\n",
       "  <thead>\n",
       "    <tr style=\"text-align: right;\">\n",
       "      <th></th>\n",
       "      <th></th>\n",
       "      <th>count</th>\n",
       "      <th>mean</th>\n",
       "      <th>std</th>\n",
       "      <th>min</th>\n",
       "      <th>25%</th>\n",
       "      <th>50%</th>\n",
       "      <th>75%</th>\n",
       "      <th>max</th>\n",
       "    </tr>\n",
       "    <tr>\n",
       "      <th>Cultivar</th>\n",
       "      <th>Acids</th>\n",
       "      <th></th>\n",
       "      <th></th>\n",
       "      <th></th>\n",
       "      <th></th>\n",
       "      <th></th>\n",
       "      <th></th>\n",
       "      <th></th>\n",
       "      <th></th>\n",
       "    </tr>\n",
       "  </thead>\n",
       "  <tbody>\n",
       "    <tr>\n",
       "      <th rowspan=\"5\" valign=\"top\">Ambar</th>\n",
       "      <th>acetic acid</th>\n",
       "      <td>1.0</td>\n",
       "      <td>843.505155</td>\n",
       "      <td>NaN</td>\n",
       "      <td>843.505155</td>\n",
       "      <td>843.505155</td>\n",
       "      <td>843.505155</td>\n",
       "      <td>843.505155</td>\n",
       "      <td>843.505155</td>\n",
       "    </tr>\n",
       "    <tr>\n",
       "      <th>citric acid</th>\n",
       "      <td>0.0</td>\n",
       "      <td>NaN</td>\n",
       "      <td>NaN</td>\n",
       "      <td>NaN</td>\n",
       "      <td>NaN</td>\n",
       "      <td>NaN</td>\n",
       "      <td>NaN</td>\n",
       "      <td>NaN</td>\n",
       "    </tr>\n",
       "    <tr>\n",
       "      <th>maleic acid</th>\n",
       "      <td>1.0</td>\n",
       "      <td>1.008247</td>\n",
       "      <td>NaN</td>\n",
       "      <td>1.008247</td>\n",
       "      <td>1.008247</td>\n",
       "      <td>1.008247</td>\n",
       "      <td>1.008247</td>\n",
       "      <td>1.008247</td>\n",
       "    </tr>\n",
       "    <tr>\n",
       "      <th>malic acid</th>\n",
       "      <td>1.0</td>\n",
       "      <td>32.876289</td>\n",
       "      <td>NaN</td>\n",
       "      <td>32.876289</td>\n",
       "      <td>32.876289</td>\n",
       "      <td>32.876289</td>\n",
       "      <td>32.876289</td>\n",
       "      <td>32.876289</td>\n",
       "    </tr>\n",
       "    <tr>\n",
       "      <th>malonic acid</th>\n",
       "      <td>1.0</td>\n",
       "      <td>497.731959</td>\n",
       "      <td>NaN</td>\n",
       "      <td>497.731959</td>\n",
       "      <td>497.731959</td>\n",
       "      <td>497.731959</td>\n",
       "      <td>497.731959</td>\n",
       "      <td>497.731959</td>\n",
       "    </tr>\n",
       "  </tbody>\n",
       "</table>\n",
       "</div>"
      ],
      "text/plain": [
       "                       count        mean  std         min         25%  \\\n",
       "Cultivar Acids                                                          \n",
       "Ambar    acetic acid     1.0  843.505155  NaN  843.505155  843.505155   \n",
       "         citric acid     0.0         NaN  NaN         NaN         NaN   \n",
       "         maleic acid     1.0    1.008247  NaN    1.008247    1.008247   \n",
       "         malic acid      1.0   32.876289  NaN   32.876289   32.876289   \n",
       "         malonic acid    1.0  497.731959  NaN  497.731959  497.731959   \n",
       "\n",
       "                              50%         75%         max  \n",
       "Cultivar Acids                                             \n",
       "Ambar    acetic acid   843.505155  843.505155  843.505155  \n",
       "         citric acid          NaN         NaN         NaN  \n",
       "         maleic acid     1.008247    1.008247    1.008247  \n",
       "         malic acid     32.876289   32.876289   32.876289  \n",
       "         malonic acid  497.731959  497.731959  497.731959  "
      ]
     },
     "execution_count": 21,
     "metadata": {},
     "output_type": "execute_result"
    }
   ],
   "source": [
    "df1.head()"
   ]
  },
  {
   "cell_type": "code",
   "execution_count": 22,
   "id": "b97ed248",
   "metadata": {},
   "outputs": [
    {
     "data": {
      "text/plain": [
       "927.1686462249628"
      ]
     },
     "execution_count": 22,
     "metadata": {},
     "output_type": "execute_result"
    }
   ],
   "source": [
    "df1[\"mean\"].max()"
   ]
  },
  {
   "cell_type": "code",
   "execution_count": 23,
   "id": "75858f1e",
   "metadata": {},
   "outputs": [
    {
     "data": {
      "text/plain": [
       "1149.959349593496"
      ]
     },
     "execution_count": 23,
     "metadata": {},
     "output_type": "execute_result"
    }
   ],
   "source": [
    "df2[\"mean\"].max()"
   ]
  },
  {
   "cell_type": "code",
   "execution_count": 24,
   "id": "c4e345f6",
   "metadata": {},
   "outputs": [
    {
     "data": {
      "text/plain": [
       "3946.774891774892"
      ]
     },
     "execution_count": 24,
     "metadata": {},
     "output_type": "execute_result"
    }
   ],
   "source": [
    "df3[\"mean\"].max()"
   ]
  },
  {
   "cell_type": "code",
   "execution_count": 25,
   "id": "57b1de68",
   "metadata": {},
   "outputs": [
    {
     "data": {
      "text/plain": [
       "124.02914553632097"
      ]
     },
     "execution_count": 25,
     "metadata": {},
     "output_type": "execute_result"
    }
   ],
   "source": [
    "1149.959349593496/927.1686462249628*100"
   ]
  },
  {
   "cell_type": "code",
   "execution_count": 26,
   "id": "2c72c89d",
   "metadata": {},
   "outputs": [
    {
     "data": {
      "text/plain": [
       "425.6803665486839"
      ]
     },
     "execution_count": 26,
     "metadata": {},
     "output_type": "execute_result"
    }
   ],
   "source": [
    "3946.774891774892/927.1686462249628*100"
   ]
  },
  {
   "cell_type": "code",
   "execution_count": 27,
   "id": "24e170de",
   "metadata": {},
   "outputs": [
    {
     "data": {
      "text/html": [
       "<div>\n",
       "<style scoped>\n",
       "    .dataframe tbody tr th:only-of-type {\n",
       "        vertical-align: middle;\n",
       "    }\n",
       "\n",
       "    .dataframe tbody tr th {\n",
       "        vertical-align: top;\n",
       "    }\n",
       "\n",
       "    .dataframe thead th {\n",
       "        text-align: right;\n",
       "    }\n",
       "</style>\n",
       "<table border=\"1\" class=\"dataframe\">\n",
       "  <thead>\n",
       "    <tr style=\"text-align: right;\">\n",
       "      <th></th>\n",
       "      <th>Cultivar</th>\n",
       "      <th>Acids</th>\n",
       "      <th>count</th>\n",
       "      <th>mean</th>\n",
       "      <th>std</th>\n",
       "      <th>min</th>\n",
       "      <th>25%</th>\n",
       "      <th>50%</th>\n",
       "      <th>75%</th>\n",
       "      <th>max</th>\n",
       "    </tr>\n",
       "  </thead>\n",
       "  <tbody>\n",
       "    <tr>\n",
       "      <th>0</th>\n",
       "      <td>Ambar</td>\n",
       "      <td>acetic acid</td>\n",
       "      <td>1.0</td>\n",
       "      <td>843.505155</td>\n",
       "      <td>0.0</td>\n",
       "      <td>843.505155</td>\n",
       "      <td>843.505155</td>\n",
       "      <td>843.505155</td>\n",
       "      <td>843.505155</td>\n",
       "      <td>843.505155</td>\n",
       "    </tr>\n",
       "    <tr>\n",
       "      <th>1</th>\n",
       "      <td>Ambar</td>\n",
       "      <td>citric acid</td>\n",
       "      <td>0.0</td>\n",
       "      <td>0.000000</td>\n",
       "      <td>0.0</td>\n",
       "      <td>0.000000</td>\n",
       "      <td>0.000000</td>\n",
       "      <td>0.000000</td>\n",
       "      <td>0.000000</td>\n",
       "      <td>0.000000</td>\n",
       "    </tr>\n",
       "    <tr>\n",
       "      <th>2</th>\n",
       "      <td>Ambar</td>\n",
       "      <td>maleic acid</td>\n",
       "      <td>1.0</td>\n",
       "      <td>1.008247</td>\n",
       "      <td>0.0</td>\n",
       "      <td>1.008247</td>\n",
       "      <td>1.008247</td>\n",
       "      <td>1.008247</td>\n",
       "      <td>1.008247</td>\n",
       "      <td>1.008247</td>\n",
       "    </tr>\n",
       "    <tr>\n",
       "      <th>3</th>\n",
       "      <td>Ambar</td>\n",
       "      <td>malic acid</td>\n",
       "      <td>1.0</td>\n",
       "      <td>32.876289</td>\n",
       "      <td>0.0</td>\n",
       "      <td>32.876289</td>\n",
       "      <td>32.876289</td>\n",
       "      <td>32.876289</td>\n",
       "      <td>32.876289</td>\n",
       "      <td>32.876289</td>\n",
       "    </tr>\n",
       "    <tr>\n",
       "      <th>4</th>\n",
       "      <td>Ambar</td>\n",
       "      <td>malonic acid</td>\n",
       "      <td>1.0</td>\n",
       "      <td>497.731959</td>\n",
       "      <td>0.0</td>\n",
       "      <td>497.731959</td>\n",
       "      <td>497.731959</td>\n",
       "      <td>497.731959</td>\n",
       "      <td>497.731959</td>\n",
       "      <td>497.731959</td>\n",
       "    </tr>\n",
       "  </tbody>\n",
       "</table>\n",
       "</div>"
      ],
      "text/plain": [
       "  Cultivar         Acids  count        mean  std         min         25%  \\\n",
       "0    Ambar   acetic acid    1.0  843.505155  0.0  843.505155  843.505155   \n",
       "1    Ambar   citric acid    0.0    0.000000  0.0    0.000000    0.000000   \n",
       "2    Ambar   maleic acid    1.0    1.008247  0.0    1.008247    1.008247   \n",
       "3    Ambar    malic acid    1.0   32.876289  0.0   32.876289   32.876289   \n",
       "4    Ambar  malonic acid    1.0  497.731959  0.0  497.731959  497.731959   \n",
       "\n",
       "          50%         75%         max  \n",
       "0  843.505155  843.505155  843.505155  \n",
       "1    0.000000    0.000000    0.000000  \n",
       "2    1.008247    1.008247    1.008247  \n",
       "3   32.876289   32.876289   32.876289  \n",
       "4  497.731959  497.731959  497.731959  "
      ]
     },
     "execution_count": 27,
     "metadata": {},
     "output_type": "execute_result"
    }
   ],
   "source": [
    "df1.reset_index().fillna(0).head()"
   ]
  },
  {
   "cell_type": "code",
   "execution_count": 47,
   "id": "0f46e06c",
   "metadata": {
    "scrolled": true
   },
   "outputs": [
    {
     "data": {
      "image/png": "[encoded data removed]",
      "text/plain": [
       "<Figure size 720x720 with 3 Axes>"
      ]
     },
     "metadata": {
      "needs_background": "light"
     },
     "output_type": "display_data"
    }
   ],
   "source": [
    "fig,ax=plt.subplots(3,1,figsize=(10,10),sharex=True, sharey=True)\n",
    "\n",
    "sns.scatterplot(ax=ax[0], data=df1.reset_index().fillna(0),y=\"Acids\", x=\"mean\", hue=\"Cultivar\", size=\"mean\",sizes=(0,100),\\\n",
    "               legend=False)\n",
    "\n",
    "sns.scatterplot(ax=ax[1], data=df2.reset_index().fillna(0),y=\"Acids\", x=\"mean\", hue=\"Cultivar\", size=\"mean\",sizes=(0,124))\n",
    "## sizes adjusted based max value in two dataset\n",
    "\n",
    "sns.scatterplot(ax=ax[2], data=df3.reset_index().fillna(0),y=\"Acids\", x=\"mean\", hue=\"Cultivar\", size=\"mean\",sizes=(0,425),\\\n",
    "               legend=False)\n",
    "## sizes adjusted based max value in two dataset\n",
    "\n",
    "ax[1].legend(bbox_to_anchor= (1.3, 1.5)) ## move legend position\n",
    "\n",
    "##hide x y labels\n",
    "ax[0].set_ylabel('', fontsize=15)\n",
    "ax[1].set_ylabel('', fontsize=15)\n",
    "ax[2].set_ylabel('', fontsize=15)\n",
    "plt.xlabel('Concentration (μM)', fontsize=15,fontweight='bold')\n",
    "\n",
    "## add shared labels\n",
    "#fig.text(0.5, 0.04, 'common X', ha='center')\n",
    "fig.text(-0.04, 0.5, 'Oganic acids', va='center', rotation='vertical',fontsize=15,fontweight='bold') ##\n",
    "\n",
    "plt.setp(ax[0].get_yticklabels(), fontsize=12)\n",
    "plt.setp(ax[1].get_yticklabels(), fontsize=12)\n",
    "plt.setp(ax[1].get_yticklabels(), fontsize=12)\n",
    "\n",
    "plt.subplots_adjust(wspace=0, hspace=0.01) ## tight space between subplots\n",
    "\n",
    "plt.show()"
   ]
  },
  {
   "cell_type": "code",
   "execution_count": 48,
   "id": "cc5d353c",
   "metadata": {
    "collapsed": true
   },
   "outputs": [
    {
     "name": "stderr",
     "output_type": "stream",
     "text": [
      "/opt/anaconda3/envs/jupyter_seaborn/lib/python3.7/site-packages/ipykernel_launcher.py:1: MatplotlibDeprecationWarning: Support for passing numbers through unit converters is deprecated since 3.5 and support will be removed two minor releases later; use Axis.convert_units instead.\n",
      "  \"\"\"Entry point for launching an IPython kernel.\n",
      "/opt/anaconda3/envs/jupyter_seaborn/lib/python3.7/site-packages/ipykernel_launcher.py:1: MatplotlibDeprecationWarning: Support for passing numbers through unit converters is deprecated since 3.5 and support will be removed two minor releases later; use Axis.convert_units instead.\n",
      "  \"\"\"Entry point for launching an IPython kernel.\n",
      "/opt/anaconda3/envs/jupyter_seaborn/lib/python3.7/site-packages/ipykernel_launcher.py:1: MatplotlibDeprecationWarning: Support for passing numbers through unit converters is deprecated since 3.5 and support will be removed two minor releases later; use Axis.convert_units instead.\n",
      "  \"\"\"Entry point for launching an IPython kernel.\n",
      "/opt/anaconda3/envs/jupyter_seaborn/lib/python3.7/site-packages/ipykernel_launcher.py:1: MatplotlibDeprecationWarning: Support for passing numbers through unit converters is deprecated since 3.5 and support will be removed two minor releases later; use Axis.convert_units instead.\n",
      "  \"\"\"Entry point for launching an IPython kernel.\n",
      "/opt/anaconda3/envs/jupyter_seaborn/lib/python3.7/site-packages/ipykernel_launcher.py:1: MatplotlibDeprecationWarning: Support for passing numbers through unit converters is deprecated since 3.5 and support will be removed two minor releases later; use Axis.convert_units instead.\n",
      "  \"\"\"Entry point for launching an IPython kernel.\n",
      "/opt/anaconda3/envs/jupyter_seaborn/lib/python3.7/site-packages/ipykernel_launcher.py:1: MatplotlibDeprecationWarning: Support for passing numbers through unit converters is deprecated since 3.5 and support will be removed two minor releases later; use Axis.convert_units instead.\n",
      "  \"\"\"Entry point for launching an IPython kernel.\n",
      "/opt/anaconda3/envs/jupyter_seaborn/lib/python3.7/site-packages/ipykernel_launcher.py:1: MatplotlibDeprecationWarning: Support for passing numbers through unit converters is deprecated since 3.5 and support will be removed two minor releases later; use Axis.convert_units instead.\n",
      "  \"\"\"Entry point for launching an IPython kernel.\n",
      "/opt/anaconda3/envs/jupyter_seaborn/lib/python3.7/site-packages/ipykernel_launcher.py:1: MatplotlibDeprecationWarning: Support for passing numbers through unit converters is deprecated since 3.5 and support will be removed two minor releases later; use Axis.convert_units instead.\n",
      "  \"\"\"Entry point for launching an IPython kernel.\n",
      "/opt/anaconda3/envs/jupyter_seaborn/lib/python3.7/site-packages/ipykernel_launcher.py:1: MatplotlibDeprecationWarning: Support for passing numbers through unit converters is deprecated since 3.5 and support will be removed two minor releases later; use Axis.convert_units instead.\n",
      "  \"\"\"Entry point for launching an IPython kernel.\n",
      "/opt/anaconda3/envs/jupyter_seaborn/lib/python3.7/site-packages/ipykernel_launcher.py:1: MatplotlibDeprecationWarning: Support for passing numbers through unit converters is deprecated since 3.5 and support will be removed two minor releases later; use Axis.convert_units instead.\n",
      "  \"\"\"Entry point for launching an IPython kernel.\n",
      "/opt/anaconda3/envs/jupyter_seaborn/lib/python3.7/site-packages/ipykernel_launcher.py:1: MatplotlibDeprecationWarning: Support for passing numbers through unit converters is deprecated since 3.5 and support will be removed two minor releases later; use Axis.convert_units instead.\n",
      "  \"\"\"Entry point for launching an IPython kernel.\n",
      "/opt/anaconda3/envs/jupyter_seaborn/lib/python3.7/site-packages/ipykernel_launcher.py:1: MatplotlibDeprecationWarning: Support for passing numbers through unit converters is deprecated since 3.5 and support will be removed two minor releases later; use Axis.convert_units instead.\n",
      "  \"\"\"Entry point for launching an IPython kernel.\n",
      "/opt/anaconda3/envs/jupyter_seaborn/lib/python3.7/site-packages/ipykernel_launcher.py:1: MatplotlibDeprecationWarning: Support for passing numbers through unit converters is deprecated since 3.5 and support will be removed two minor releases later; use Axis.convert_units instead.\n",
      "  \"\"\"Entry point for launching an IPython kernel.\n",
      "/opt/anaconda3/envs/jupyter_seaborn/lib/python3.7/site-packages/ipykernel_launcher.py:1: MatplotlibDeprecationWarning: Support for passing numbers through unit converters is deprecated since 3.5 and support will be removed two minor releases later; use Axis.convert_units instead.\n",
      "  \"\"\"Entry point for launching an IPython kernel.\n"
     ]
    }
   ],
   "source": [
    "fig.savefig(\"CA_raw.png\",dpi=600,bbox_inches = 'tight')"
   ]
  },
  {
   "cell_type": "markdown",
   "id": "cd93f256",
   "metadata": {},
   "source": [
    "## Concentration divided by dry weight"
   ]
  },
  {
   "cell_type": "code",
   "execution_count": 38,
   "id": "a4d3f109",
   "metadata": {},
   "outputs": [],
   "source": [
    "df11 = df_T1.groupby(['Cultivar','Acids'])[\"Concentration_wt\"].describe()\n",
    "df22 = df_T2.groupby(['Cultivar','Acids'])[\"Concentration_wt\"].describe()\n",
    "df33 = df_T3.groupby(['Cultivar','Acids'])[\"Concentration_wt\"].describe()"
   ]
  },
  {
   "cell_type": "code",
   "execution_count": 39,
   "id": "cce466e4",
   "metadata": {},
   "outputs": [
    {
     "data": {
      "text/plain": [
       "13062.372993257719"
      ]
     },
     "execution_count": 39,
     "metadata": {},
     "output_type": "execute_result"
    }
   ],
   "source": [
    "df11[\"mean\"].max()"
   ]
  },
  {
   "cell_type": "code",
   "execution_count": 40,
   "id": "a067f5d6",
   "metadata": {},
   "outputs": [
    {
     "data": {
      "text/plain": [
       "16841.884160322967"
      ]
     },
     "execution_count": 40,
     "metadata": {},
     "output_type": "execute_result"
    }
   ],
   "source": [
    "df22[\"mean\"].max()"
   ]
  },
  {
   "cell_type": "code",
   "execution_count": 42,
   "id": "494da733",
   "metadata": {},
   "outputs": [
    {
     "data": {
      "text/plain": [
       "36398.64563216499"
      ]
     },
     "execution_count": 42,
     "metadata": {},
     "output_type": "execute_result"
    }
   ],
   "source": [
    "df33[\"mean\"].max()"
   ]
  },
  {
   "cell_type": "code",
   "execution_count": 44,
   "id": "edbbaded",
   "metadata": {},
   "outputs": [
    {
     "data": {
      "text/plain": [
       "128.93433811005153"
      ]
     },
     "execution_count": 44,
     "metadata": {},
     "output_type": "execute_result"
    }
   ],
   "source": [
    "16841.884160322967/13062.372993257719*100"
   ]
  },
  {
   "cell_type": "code",
   "execution_count": 45,
   "id": "beec8a2b",
   "metadata": {},
   "outputs": [
    {
     "data": {
      "text/plain": [
       "278.6526280558099"
      ]
     },
     "execution_count": 45,
     "metadata": {},
     "output_type": "execute_result"
    }
   ],
   "source": [
    "36398.64563216499/13062.372993257719*100"
   ]
  },
  {
   "cell_type": "code",
   "execution_count": 49,
   "id": "f6d8a221",
   "metadata": {},
   "outputs": [
    {
     "data": {
      "image/png": "[encoded data removed]",
      "text/plain": [
       "<Figure size 720x720 with 3 Axes>"
      ]
     },
     "metadata": {
      "needs_background": "light"
     },
     "output_type": "display_data"
    }
   ],
   "source": [
    "fig,ax=plt.subplots(3,1,figsize=(10,10),sharex=True, sharey=True)\n",
    "\n",
    "sns.scatterplot(ax=ax[0], data=df11.reset_index().fillna(0),y=\"Acids\", x=\"mean\", hue=\"Cultivar\", size=\"mean\",sizes=(0,100),\\\n",
    "               legend=False)\n",
    "\n",
    "sns.scatterplot(ax=ax[1], data=df22.reset_index().fillna(0),y=\"Acids\", x=\"mean\", hue=\"Cultivar\", size=\"mean\",sizes=(0,124))\n",
    "## sizes adjusted based max value in two dataset\n",
    "\n",
    "sns.scatterplot(ax=ax[2], data=df33.reset_index().fillna(0),y=\"Acids\", x=\"mean\", hue=\"Cultivar\", size=\"mean\",sizes=(0,425),\\\n",
    "               legend=False)\n",
    "## sizes adjusted based max value in two dataset\n",
    "\n",
    "ax[1].legend(bbox_to_anchor= (1.3, 1.5)) ## move legend position\n",
    "\n",
    "##hide x y labels\n",
    "ax[0].set_ylabel('', fontsize=15)\n",
    "ax[1].set_ylabel('', fontsize=15)\n",
    "ax[2].set_ylabel('', fontsize=15)\n",
    "plt.xlabel('Concentration (μM)', fontsize=15,fontweight='bold')\n",
    "\n",
    "## add shared labels\n",
    "#fig.text(0.5, 0.04, 'common X', ha='center')\n",
    "fig.text(-0.04, 0.5, 'Oganic acids', va='center', rotation='vertical',fontsize=15,fontweight='bold') ##\n",
    "\n",
    "plt.setp(ax[0].get_yticklabels(), fontsize=12)\n",
    "plt.setp(ax[1].get_yticklabels(), fontsize=12)\n",
    "plt.setp(ax[1].get_yticklabels(), fontsize=12)\n",
    "\n",
    "plt.subplots_adjust(wspace=0, hspace=0.01) ## tight space between subplots\n",
    "\n",
    "plt.show()"
   ]
  },
  {
   "cell_type": "code",
   "execution_count": 50,
   "id": "272e049d",
   "metadata": {
    "collapsed": true
   },
   "outputs": [
    {
     "name": "stderr",
     "output_type": "stream",
     "text": [
      "/opt/anaconda3/envs/jupyter_seaborn/lib/python3.7/site-packages/ipykernel_launcher.py:1: MatplotlibDeprecationWarning: Support for passing numbers through unit converters is deprecated since 3.5 and support will be removed two minor releases later; use Axis.convert_units instead.\n",
      "  \"\"\"Entry point for launching an IPython kernel.\n",
      "/opt/anaconda3/envs/jupyter_seaborn/lib/python3.7/site-packages/ipykernel_launcher.py:1: MatplotlibDeprecationWarning: Support for passing numbers through unit converters is deprecated since 3.5 and support will be removed two minor releases later; use Axis.convert_units instead.\n",
      "  \"\"\"Entry point for launching an IPython kernel.\n",
      "/opt/anaconda3/envs/jupyter_seaborn/lib/python3.7/site-packages/ipykernel_launcher.py:1: MatplotlibDeprecationWarning: Support for passing numbers through unit converters is deprecated since 3.5 and support will be removed two minor releases later; use Axis.convert_units instead.\n",
      "  \"\"\"Entry point for launching an IPython kernel.\n",
      "/opt/anaconda3/envs/jupyter_seaborn/lib/python3.7/site-packages/ipykernel_launcher.py:1: MatplotlibDeprecationWarning: Support for passing numbers through unit converters is deprecated since 3.5 and support will be removed two minor releases later; use Axis.convert_units instead.\n",
      "  \"\"\"Entry point for launching an IPython kernel.\n",
      "/opt/anaconda3/envs/jupyter_seaborn/lib/python3.7/site-packages/ipykernel_launcher.py:1: MatplotlibDeprecationWarning: Support for passing numbers through unit converters is deprecated since 3.5 and support will be removed two minor releases later; use Axis.convert_units instead.\n",
      "  \"\"\"Entry point for launching an IPython kernel.\n",
      "/opt/anaconda3/envs/jupyter_seaborn/lib/python3.7/site-packages/ipykernel_launcher.py:1: MatplotlibDeprecationWarning: Support for passing numbers through unit converters is deprecated since 3.5 and support will be removed two minor releases later; use Axis.convert_units instead.\n",
      "  \"\"\"Entry point for launching an IPython kernel.\n",
      "/opt/anaconda3/envs/jupyter_seaborn/lib/python3.7/site-packages/ipykernel_launcher.py:1: MatplotlibDeprecationWarning: Support for passing numbers through unit converters is deprecated since 3.5 and support will be removed two minor releases later; use Axis.convert_units instead.\n",
      "  \"\"\"Entry point for launching an IPython kernel.\n",
      "/opt/anaconda3/envs/jupyter_seaborn/lib/python3.7/site-packages/ipykernel_launcher.py:1: MatplotlibDeprecationWarning: Support for passing numbers through unit converters is deprecated since 3.5 and support will be removed two minor releases later; use Axis.convert_units instead.\n",
      "  \"\"\"Entry point for launching an IPython kernel.\n",
      "/opt/anaconda3/envs/jupyter_seaborn/lib/python3.7/site-packages/ipykernel_launcher.py:1: MatplotlibDeprecationWarning: Support for passing numbers through unit converters is deprecated since 3.5 and support will be removed two minor releases later; use Axis.convert_units instead.\n",
      "  \"\"\"Entry point for launching an IPython kernel.\n",
      "/opt/anaconda3/envs/jupyter_seaborn/lib/python3.7/site-packages/ipykernel_launcher.py:1: MatplotlibDeprecationWarning: Support for passing numbers through unit converters is deprecated since 3.5 and support will be removed two minor releases later; use Axis.convert_units instead.\n",
      "  \"\"\"Entry point for launching an IPython kernel.\n",
      "/opt/anaconda3/envs/jupyter_seaborn/lib/python3.7/site-packages/ipykernel_launcher.py:1: MatplotlibDeprecationWarning: Support for passing numbers through unit converters is deprecated since 3.5 and support will be removed two minor releases later; use Axis.convert_units instead.\n",
      "  \"\"\"Entry point for launching an IPython kernel.\n",
      "/opt/anaconda3/envs/jupyter_seaborn/lib/python3.7/site-packages/ipykernel_launcher.py:1: MatplotlibDeprecationWarning: Support for passing numbers through unit converters is deprecated since 3.5 and support will be removed two minor releases later; use Axis.convert_units instead.\n",
      "  \"\"\"Entry point for launching an IPython kernel.\n",
      "/opt/anaconda3/envs/jupyter_seaborn/lib/python3.7/site-packages/ipykernel_launcher.py:1: MatplotlibDeprecationWarning: Support for passing numbers through unit converters is deprecated since 3.5 and support will be removed two minor releases later; use Axis.convert_units instead.\n",
      "  \"\"\"Entry point for launching an IPython kernel.\n",
      "/opt/anaconda3/envs/jupyter_seaborn/lib/python3.7/site-packages/ipykernel_launcher.py:1: MatplotlibDeprecationWarning: Support for passing numbers through unit converters is deprecated since 3.5 and support will be removed two minor releases later; use Axis.convert_units instead.\n",
      "  \"\"\"Entry point for launching an IPython kernel.\n"
     ]
    }
   ],
   "source": [
    "fig.savefig(\"CA_norm.png\",dpi=600,bbox_inches = 'tight')"
   ]
  },
  {
   "cell_type": "code",
   "execution_count": null,
   "id": "5d08a3bc",
   "metadata": {},
   "outputs": [],
   "source": []
  }
 ],
 "metadata": {
  "kernelspec": {
   "display_name": "Python 3 (ipykernel)",
   "language": "python",
   "name": "python3"
  },
  "language_info": {
   "codemirror_mode": {
    "name": "ipython",
    "version": 3
   },
   "file_extension": ".py",
   "mimetype": "text/x-python",
   "name": "python",
   "nbconvert_exporter": "python",
   "pygments_lexer": "ipython3",
   "version": "3.7.11"
  }
 },
 "nbformat": 4,
 "nbformat_minor": 5
}
